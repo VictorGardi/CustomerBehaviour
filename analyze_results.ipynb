{
 "cells": [
  {
   "cell_type": "code",
   "execution_count": 1,
   "metadata": {},
   "outputs": [],
   "source": [
    "import os\n",
    "import re\n",
    "import json\n",
    "import time\n",
    "import collections\n",
    "import numpy as np\n",
    "import matplotlib.pyplot as plt\n",
    "import matplotlib.ticker as mticker\n",
    "from pprint import pprint\n",
    "from customer_behaviour.tools.cluster import Cluster\n",
    "from customer_behaviour.tools.result import Result\n",
    "from customer_behaviour.tools import dgm as dgm\n",
    "from IPython.display import Javascript"
   ]
  },
  {
   "cell_type": "code",
   "execution_count": 2,
   "metadata": {},
   "outputs": [
    {
     "data": {
      "application/javascript": [
       "Jupyter.notebook.execute_cells([-1])"
      ],
      "text/plain": [
       "<IPython.core.display.Javascript object>"
      ]
     },
     "execution_count": 2,
     "metadata": {},
     "output_type": "execute_result"
    }
   ],
   "source": [
    "# Load super class\n",
    "Javascript('Jupyter.notebook.execute_cells([-1])')"
   ]
  },
  {
   "cell_type": "code",
   "execution_count": 7,
   "metadata": {},
   "outputs": [
    {
     "data": {
      "image/png": "[encoded data removed]",
      "text/plain": [
       "<Figure size 432x288 with 3 Axes>"
      ]
     },
     "metadata": {
      "needs_background": "light"
     },
     "output_type": "display_data"
    },
    {
     "ename": "ValueError",
     "evalue": "XA and XB must have the same number of columns (i.e. feature dimension.)",
     "output_type": "error",
     "traceback": [
      "\u001b[0;31m---------------------------------------------------------------------------\u001b[0m",
      "\u001b[0;31mValueError\u001b[0m                                Traceback (most recent call last)",
      "\u001b[0;32m<ipython-input-7-9e0fab32df46>\u001b[0m in \u001b[0;36m<module>\u001b[0;34m\u001b[0m\n\u001b[1;32m      4\u001b[0m \u001b[0mresult\u001b[0m \u001b[0;34m=\u001b[0m \u001b[0mCase2\u001b[0m\u001b[0;34m(\u001b[0m\u001b[0mdir_path\u001b[0m\u001b[0;34m)\u001b[0m\u001b[0;34m\u001b[0m\u001b[0;34m\u001b[0m\u001b[0m\n\u001b[1;32m      5\u001b[0m \u001b[0mresult\u001b[0m\u001b[0;34m.\u001b[0m\u001b[0mplot_loss\u001b[0m\u001b[0;34m(\u001b[0m\u001b[0;34m)\u001b[0m\u001b[0;34m\u001b[0m\u001b[0;34m\u001b[0m\u001b[0m\n\u001b[0;32m----> 6\u001b[0;31m \u001b[0mresult\u001b[0m\u001b[0;34m.\u001b[0m\u001b[0mplot_trajectories\u001b[0m\u001b[0;34m(\u001b[0m\u001b[0mn_trajectories\u001b[0m \u001b[0;34m=\u001b[0m \u001b[0;36m5\u001b[0m\u001b[0;34m)\u001b[0m\u001b[0;34m\u001b[0m\u001b[0;34m\u001b[0m\u001b[0m\n\u001b[0m\u001b[1;32m      7\u001b[0m \u001b[0;31m# result.compare_trajectories()\u001b[0m\u001b[0;34m\u001b[0m\u001b[0;34m\u001b[0m\u001b[0;34m\u001b[0m\u001b[0m\n",
      "\u001b[0;32m<ipython-input-3-bfa0974a3ab6>\u001b[0m in \u001b[0;36mplot_trajectories\u001b[0;34m(self, n_trajectories)\u001b[0m\n\u001b[1;32m     94\u001b[0m             \u001b[0mhistory\u001b[0m \u001b[0;34m=\u001b[0m \u001b[0mstates\u001b[0m\u001b[0;34m[\u001b[0m\u001b[0;36m0\u001b[0m\u001b[0;34m]\u001b[0m\u001b[0;34m[\u001b[0m\u001b[0;34m:\u001b[0m\u001b[0;34m]\u001b[0m\u001b[0;34m\u001b[0m\u001b[0;34m\u001b[0m\u001b[0m\n\u001b[1;32m     95\u001b[0m             \u001b[0mcluster\u001b[0m \u001b[0;34m=\u001b[0m \u001b[0mCluster\u001b[0m\u001b[0;34m(\u001b[0m\u001b[0mself\u001b[0m\u001b[0;34m.\u001b[0m\u001b[0mdemo_features\u001b[0m\u001b[0;34m[\u001b[0m\u001b[0mi\u001b[0m\u001b[0;34m]\u001b[0m\u001b[0;34m,\u001b[0m \u001b[0mself\u001b[0m\u001b[0;34m.\u001b[0m\u001b[0mexpert_features\u001b[0m\u001b[0;34m)\u001b[0m\u001b[0;34m\u001b[0m\u001b[0;34m\u001b[0m\u001b[0m\n\u001b[0;32m---> 96\u001b[0;31m             \u001b[0mself\u001b[0m\u001b[0;34m.\u001b[0m\u001b[0mmean_dist\u001b[0m\u001b[0;34m,\u001b[0m \u001b[0mself\u001b[0m\u001b[0;34m.\u001b[0m\u001b[0mmin_dist\u001b[0m\u001b[0;34m,\u001b[0m \u001b[0mself\u001b[0m\u001b[0;34m.\u001b[0m\u001b[0mmax_dist\u001b[0m \u001b[0;34m=\u001b[0m \u001b[0mcluster\u001b[0m\u001b[0;34m.\u001b[0m\u001b[0mget_dist_between_clusters\u001b[0m\u001b[0;34m(\u001b[0m\u001b[0;34m)\u001b[0m\u001b[0;34m\u001b[0m\u001b[0;34m\u001b[0m\u001b[0m\n\u001b[0m\u001b[1;32m     97\u001b[0m \u001b[0;34m\u001b[0m\u001b[0m\n\u001b[1;32m     98\u001b[0m             \u001b[0mfig\u001b[0m \u001b[0;34m=\u001b[0m \u001b[0mself\u001b[0m\u001b[0;34m.\u001b[0m\u001b[0mplot\u001b[0m\u001b[0;34m(\u001b[0m\u001b[0mexpert_history\u001b[0m\u001b[0;34m,\u001b[0m \u001b[0mexpert_actions\u001b[0m\u001b[0;34m,\u001b[0m \u001b[0mhistory\u001b[0m\u001b[0;34m,\u001b[0m \u001b[0mactions\u001b[0m\u001b[0;34m)\u001b[0m\u001b[0;34m\u001b[0m\u001b[0;34m\u001b[0m\u001b[0m\n",
      "\u001b[0;32m~/Documents/CAS_2/Master_thesis/CustomerBehaviour/customer_behaviour/tools/cluster.py\u001b[0m in \u001b[0;36mget_dist_between_clusters\u001b[0;34m(self)\u001b[0m\n\u001b[1;32m     32\u001b[0m \u001b[0;34m\u001b[0m\u001b[0m\n\u001b[1;32m     33\u001b[0m     \u001b[0;32mdef\u001b[0m \u001b[0mget_dist_between_clusters\u001b[0m\u001b[0;34m(\u001b[0m\u001b[0mself\u001b[0m\u001b[0;34m)\u001b[0m\u001b[0;34m:\u001b[0m\u001b[0;34m\u001b[0m\u001b[0;34m\u001b[0m\u001b[0m\n\u001b[0;32m---> 34\u001b[0;31m         \u001b[0mdist\u001b[0m \u001b[0;34m=\u001b[0m \u001b[0mdistance\u001b[0m\u001b[0;34m.\u001b[0m\u001b[0mcdist\u001b[0m\u001b[0;34m(\u001b[0m\u001b[0mself\u001b[0m\u001b[0;34m.\u001b[0m\u001b[0mexpert_features\u001b[0m\u001b[0;34m,\u001b[0m \u001b[0mself\u001b[0m\u001b[0;34m.\u001b[0m\u001b[0magent_features\u001b[0m\u001b[0;34m.\u001b[0m\u001b[0mreshape\u001b[0m\u001b[0;34m(\u001b[0m\u001b[0;34m(\u001b[0m\u001b[0;36m1\u001b[0m\u001b[0;34m,\u001b[0m\u001b[0;34m-\u001b[0m\u001b[0;36m1\u001b[0m\u001b[0;34m)\u001b[0m\u001b[0;34m)\u001b[0m\u001b[0;34m,\u001b[0m \u001b[0;34m'euclidean'\u001b[0m\u001b[0;34m)\u001b[0m\u001b[0;34m\u001b[0m\u001b[0;34m\u001b[0m\u001b[0m\n\u001b[0m\u001b[1;32m     35\u001b[0m \u001b[0;34m\u001b[0m\u001b[0m\n\u001b[1;32m     36\u001b[0m         \u001b[0mmin_dist\u001b[0m \u001b[0;34m=\u001b[0m \u001b[0mnp\u001b[0m\u001b[0;34m.\u001b[0m\u001b[0mmin\u001b[0m\u001b[0;34m(\u001b[0m\u001b[0mdist\u001b[0m\u001b[0;34m)\u001b[0m\u001b[0;34m\u001b[0m\u001b[0;34m\u001b[0m\u001b[0m\n",
      "\u001b[0;32m~/Documents/CAS_2/Master_thesis/CustomerBehaviour/venv/lib/python3.7/site-packages/scipy/spatial/distance.py\u001b[0m in \u001b[0;36mcdist\u001b[0;34m(XA, XB, metric, *args, **kwargs)\u001b[0m\n\u001b[1;32m   2719\u001b[0m         \u001b[0;32mraise\u001b[0m \u001b[0mValueError\u001b[0m\u001b[0;34m(\u001b[0m\u001b[0;34m'XB must be a 2-dimensional array.'\u001b[0m\u001b[0;34m)\u001b[0m\u001b[0;34m\u001b[0m\u001b[0;34m\u001b[0m\u001b[0m\n\u001b[1;32m   2720\u001b[0m     \u001b[0;32mif\u001b[0m \u001b[0ms\u001b[0m\u001b[0;34m[\u001b[0m\u001b[0;36m1\u001b[0m\u001b[0;34m]\u001b[0m \u001b[0;34m!=\u001b[0m \u001b[0msB\u001b[0m\u001b[0;34m[\u001b[0m\u001b[0;36m1\u001b[0m\u001b[0;34m]\u001b[0m\u001b[0;34m:\u001b[0m\u001b[0;34m\u001b[0m\u001b[0;34m\u001b[0m\u001b[0m\n\u001b[0;32m-> 2721\u001b[0;31m         raise ValueError('XA and XB must have the same number of columns '\n\u001b[0m\u001b[1;32m   2722\u001b[0m                          '(i.e. feature dimension.)')\n\u001b[1;32m   2723\u001b[0m \u001b[0;34m\u001b[0m\u001b[0m\n",
      "\u001b[0;31mValueError\u001b[0m: XA and XB must have the same number of columns (i.e. feature dimension.)"
     ]
    }
   ],
   "source": [
    "datetime = 'hist32_exp256'\n",
    "dir_path = '/results_victor/friday_21.2/' + datetime\n",
    "\n",
    "result = Case2(dir_path)\n",
    "result.plot_loss()\n",
    "result.plot_trajectories(n_trajectories = 5)\n",
    "# result.compare_trajectories()"
   ]
  },
  {
   "cell_type": "code",
   "execution_count": 3,
   "metadata": {},
   "outputs": [],
   "source": [
    "############################\n",
    "########## Case 3 ##########\n",
    "############################\n",
    "\n",
    "class Case3(Result):\n",
    "    # There is only one expert\n",
    "    # State representation: [days elapsed since last purchase, \n",
    "    #                        days elapsed between last purchase and the purchase before that, ...]\n",
    "    \n",
    "    def __init__(self, dir_path):\n",
    "        Result.__init__(self, dir_path)\n",
    "    \n",
    "    def plot_trajectories(self, n_trajectories=None, expert=False):\n",
    "        if n_trajectories is None: \n",
    "            n_trajectories = self.n_expert_trajectories if expert else self.n_learner_trajectories\n",
    "        \n",
    "        for i in range(n_trajectories):\n",
    "            if expert:\n",
    "                states = self.expert_states[i]\n",
    "                actions = self.expert_actions[i]\n",
    "            else:\n",
    "                states = self.learner_states[i]\n",
    "                actions = self.learner_actions[i]\n",
    "                cluster = Cluster(self.demo_features[i], self.expert_features)\n",
    "                self.mean_dist, self.min_dist, self.max_dist = cluster.get_dist_between_clusters()\n",
    "            \n",
    "            history = self.get_history(states[0])\n",
    "            \n",
    "            fig = self.plot(history, actions, expert)\n",
    "            \n",
    "            fig.suptitle('mean_dist: %.1f, min_dist: %.1f, max_dist: %.1f, expert_SS: %.1f' %(self.mean_dist, self.min_dist, self.max_dist, self.expert_within_SS))\n",
    "            \n",
    "        plt.show()\n",
    "        fig.tight_layout()      \n",
    "        \n",
    "        \n",
    "    def get_history(self, initial_state):\n",
    "        history = []\n",
    "        for x in initial_state:\n",
    "            while x > 1:\n",
    "                history.append(0)\n",
    "                x -= 1\n",
    "            history.append(1)\n",
    "        history.reverse()\n",
    "        return history\n",
    "    \n",
    "    '''           \n",
    "    def plot(self, history, actions, expert=False):\n",
    "        fig, (ax1, ax2) = plt.subplots(1, 2, sharey='row')\n",
    "        ax1.plot(history)\n",
    "        ax2.plot(actions)\n",
    "            \n",
    "        # Set titles\n",
    "        if expert:\n",
    "            ax1.set_title(\"Expert's history\")\n",
    "            ax2.set_title(\"Expert's actions\")\n",
    "        else:\n",
    "            ax1.set_title(\"Learner's history\")\n",
    "            ax2.set_title(\"Learner's actions\")\n",
    "            \n",
    "        # Set x-labels\n",
    "        ax1.set_xlabel('Day')\n",
    "        ax2.set_xlabel('Day')\n",
    "\n",
    "        # Set y-labels\n",
    "        ax1.set_yticks([0, 1])\n",
    "        ax1.set_yticklabels(['No purchase', 'Purchase'])\n",
    "        \n",
    "        return fig\n",
    "    '''\n",
    "\n",
    "############################\n",
    "########## Case 2 ##########\n",
    "############################ \n",
    "\n",
    "class Case2(Result):\n",
    "    # There is only one expert\n",
    "    # State representation: [historical purchases]\n",
    "    \n",
    "    def __init__(self, dir_path):\n",
    "        Result.__init__(self, dir_path) \n",
    "        \n",
    "    \n",
    "    def plot_trajectories(self, n_trajectories=None):\n",
    "        expert_states = self.expert_states[0]\n",
    "        expert_actions = self.expert_actions[0]\n",
    "        expert_history = expert_states[0][:]\n",
    "        \n",
    "        if n_trajectories is None: n_trajectories = self.n_learner_trajectories\n",
    "        \n",
    "        for i in range(n_trajectories):\n",
    "            states = self.learner_states[i]\n",
    "            actions = self.learner_actions[i]\n",
    "            history = states[0][:]\n",
    "            cluster = Cluster(self.demo_features[i], self.expert_features)\n",
    "            self.mean_dist, self.min_dist, self.max_dist = cluster.get_dist_between_clusters()\n",
    "                \n",
    "            fig = self.plot(expert_history, expert_actions, history, actions)  \n",
    "            fig.suptitle('mean_dist: %.1f, min_dist: %.1f, max_dist: %.1f' %(self.mean_dist, self.min_dist, self.max_dist))\n",
    "                         \n",
    "        fig.tight_layout()\n",
    "        plt.show()\n",
    "\n",
    "############################\n",
    "########## Case 1 ##########\n",
    "############################\n",
    "        \n",
    "class Case1(Result):\n",
    "    # There is only one expert\n",
    "    # State representation: [sex, age, historical purchases]\n",
    "    \n",
    "    def __init__(self, dir_path):\n",
    "        Result.__init__(self, dir_path) \n",
    "        \n",
    "        # assert self.expert_states.shape[0] == 1\n",
    "        \n",
    "        self.n_learner_trajectories, self.episode_length, _ = self.learner_states.shape\n",
    "        self.n_historical_events = self.learner_states.shape[2] - 2\n",
    "    \n",
    "    def plot_trajectories(self, n_trajectories=None):\n",
    "        expert_states = self.expert_states[0]\n",
    "        expert_actions = self.expert_actions[0]\n",
    "        expert_sex = expert_states[0][0]\n",
    "        expert_age = expert_states[0][1]\n",
    "        expert_history = expert_states[0][2:]\n",
    "        \n",
    "        if n_trajectories is None: n_trajectories = self.n_learner_trajectories\n",
    "        \n",
    "        for i in range(n_trajectories):\n",
    "            states = self.learner_states[i]\n",
    "            actions = self.learner_actions[i]\n",
    "            sex = states[0][0]\n",
    "            age = states[0][1]\n",
    "            history = states[0][2:]\n",
    "            \n",
    "            expert_sex_str = 'female' if expert_sex == 1 else 'male'\n",
    "            sex_str = 'female' if sex == 1 else 'male'\n",
    "            text = 'Expert: {}, {} years old | Learner: {}, {} years old'.format(\n",
    "                expert_sex_str, get_age(expert_age), sex_str, get_age(age))\n",
    "                \n",
    "            fig = self.plot(expert_history, expert_actions, history, actions)  \n",
    "            fig.suptitle('Demonstration #{}'.format(i+1))\n",
    "            fig.text(0.5, 0, text, horizontalalignment='center', verticalalignment='center')\n",
    "                         \n",
    "        fig.tight_layout()\n",
    "        plt.show()\n"
   ]
  }
 ],
 "metadata": {
  "kernelspec": {
   "display_name": "Python 3",
   "language": "python",
   "name": "python3"
  },
  "language_info": {
   "codemirror_mode": {
    "name": "ipython",
    "version": 3
   },
   "file_extension": ".py",
   "mimetype": "text/x-python",
   "name": "python",
   "nbconvert_exporter": "python",
   "pygments_lexer": "ipython3",
   "version": "3.7.6"
  }
 },
 "nbformat": 4,
 "nbformat_minor": 4
}
